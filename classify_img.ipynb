{
 "cells": [
  {
   "cell_type": "code",
   "execution_count": 5,
   "metadata": {},
   "outputs": [],
   "source": [
    "from PIL import Image\n",
    "import requests\n",
    "from io import BytesIO\n",
    "from imageai.Prediction import ImagePrediction\n",
    "\n",
    "def classify_img(img):\n",
    "        if not isinstance(img, Image.Image):\n",
    "            return None\n",
    "\n",
    "        prediction = ImagePrediction()\n",
    "        prediction.setModelTypeAsSqueezeNet()\n",
    "        prediction.setModelPath('src/squeezenet_weights_tf_dim_ordering_tf_kernels.h5')\n",
    "        prediction.loadModel()\n",
    "\n",
    "        predictions, probabilities = prediction.predictImage(img, input_type = 'array')\n",
    "        print(predictions)\n",
    "        print(probabilities)\n",
    "        results = {prediction : probabilities[idx] for idx, prediction in enumerate(predictions)}\n",
    "        return results"
   ]
  },
  {
   "cell_type": "code",
   "execution_count": 6,
   "metadata": {},
   "outputs": [
    {
     "name": "stdout",
     "output_type": "stream",
     "text": [
      "WARNING:tensorflow:When passing input data as arrays, do not specify `steps_per_epoch`/`steps` argument. Please use `batch_size` instead.\n",
      "['goldfish', 'sea_slug', 'coral_reef', 'cock', 'starfish']\n",
      "[99.9998927116394, 7.265091994668182e-05, 1.1226792651086726e-05, 1.0757850077425246e-05, 1.045757755946397e-05]\n",
      "{'goldfish': 99.9998927116394, 'sea_slug': 7.265091994668182e-05, 'coral_reef': 1.1226792651086726e-05, 'cock': 1.0757850077425246e-05, 'starfish': 1.045757755946397e-05}\n"
     ]
    }
   ],
   "source": [
    "url = '''\n",
    "https://cosmos-images2.imgix.net/file/spina/photo/11487/170814_Goldfish_Full.jpg?ixlib=rails-2.1.4&auto=format&ch=Width%2CDPR&fit=max&w=835\n",
    "'''\n",
    "response = requests.get(url)\n",
    "with Image.open(BytesIO(response.content)) as im:\n",
    "    print(classify_img(im))"
   ]
  },
  {
   "cell_type": "code",
   "execution_count": 3,
   "metadata": {},
   "outputs": [
    {
     "name": "stdout",
     "output_type": "stream",
     "text": [
      "WARNING:tensorflow:When passing input data as arrays, do not specify `steps_per_epoch`/`steps` argument. Please use `batch_size` instead.\n",
      "{'banana': 99.1417646408081, 'clog': 0.7129079662263393, 'butternut_squash': 0.043964298674836755, 'paddle': 0.035591356572695076, 'hatchet': 0.012948020594194531}\n"
     ]
    }
   ],
   "source": [
    "with Image.open('test/sampleImage/banana.jpg') as im:\n",
    "    print(classify_img(im))"
   ]
  },
  {
   "cell_type": "code",
   "execution_count": null,
   "metadata": {},
   "outputs": [],
   "source": [
    "predictions"
   ]
  },
  {
   "cell_type": "code",
   "execution_count": null,
   "metadata": {},
   "outputs": [],
   "source": []
  }
 ],
 "metadata": {
  "kernelspec": {
   "display_name": "Python 3",
   "language": "python",
   "name": "python3"
  },
  "language_info": {
   "codemirror_mode": {
    "name": "ipython",
    "version": 3
   },
   "file_extension": ".py",
   "mimetype": "text/x-python",
   "name": "python",
   "nbconvert_exporter": "python",
   "pygments_lexer": "ipython3",
   "version": "3.7.4"
  }
 },
 "nbformat": 4,
 "nbformat_minor": 2
}
